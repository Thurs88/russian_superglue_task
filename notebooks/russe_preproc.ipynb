{
 "cells": [
  {
   "cell_type": "code",
   "execution_count": 1,
   "outputs": [],
   "source": [
    "import json\n",
    "import pandas as pd\n",
    "from IPython.core.display import display\n",
    "%load_ext autoreload\n",
    "%autoreload 2"
   ],
   "metadata": {
    "collapsed": false,
    "pycharm": {
     "name": "#%%\n"
    }
   }
  },
  {
   "cell_type": "code",
   "execution_count": 2,
   "outputs": [
    {
     "data": {
      "text/plain": "   idx    word                                          sentence1  \\\n0    0    двор   В нашей деревне осталось от силы двадцать дворов   \n1    1  доклад       Табличка на дверях: «Без доклада не входить»   \n2    2  засада  У нас вообще […] засада с героями, способными ...   \n3    3    доля  Он не успел сказать и десятой доли того, что с...   \n4    4   закат  Теперь, если она не пойдет звонить мужу, успее...   \n\n                                           sentence2  start1  end1  start2  \\\n0  Солнце стояло уже высоко, когда справа от доро...      42    49      69   \n1  Вчера отбыл в столицу первый секретарь обкома ...      25    33      97   \n2  Там в воскресенье все магазины закрыты – вот в...      17    24      50   \n3  Болезнь ее была странного свойства – […] что-т...      30    35      70   \n4  Тридцать с лишним лет службы в органах, три ра...      51    58      85   \n\n   end2  label  gold_sense1  gold_sense2  \n0    76   True            1            1  \n1   104  False            4            2  \n2    57   True            2            2  \n3    77  False            2            3  \n4    92  False            1            2  ",
      "text/html": "<div>\n<style scoped>\n    .dataframe tbody tr th:only-of-type {\n        vertical-align: middle;\n    }\n\n    .dataframe tbody tr th {\n        vertical-align: top;\n    }\n\n    .dataframe thead th {\n        text-align: right;\n    }\n</style>\n<table border=\"1\" class=\"dataframe\">\n  <thead>\n    <tr style=\"text-align: right;\">\n      <th></th>\n      <th>idx</th>\n      <th>word</th>\n      <th>sentence1</th>\n      <th>sentence2</th>\n      <th>start1</th>\n      <th>end1</th>\n      <th>start2</th>\n      <th>end2</th>\n      <th>label</th>\n      <th>gold_sense1</th>\n      <th>gold_sense2</th>\n    </tr>\n  </thead>\n  <tbody>\n    <tr>\n      <th>0</th>\n      <td>0</td>\n      <td>двор</td>\n      <td>В нашей деревне осталось от силы двадцать дворов</td>\n      <td>Солнце стояло уже высоко, когда справа от доро...</td>\n      <td>42</td>\n      <td>49</td>\n      <td>69</td>\n      <td>76</td>\n      <td>True</td>\n      <td>1</td>\n      <td>1</td>\n    </tr>\n    <tr>\n      <th>1</th>\n      <td>1</td>\n      <td>доклад</td>\n      <td>Табличка на дверях: «Без доклада не входить»</td>\n      <td>Вчера отбыл в столицу первый секретарь обкома ...</td>\n      <td>25</td>\n      <td>33</td>\n      <td>97</td>\n      <td>104</td>\n      <td>False</td>\n      <td>4</td>\n      <td>2</td>\n    </tr>\n    <tr>\n      <th>2</th>\n      <td>2</td>\n      <td>засада</td>\n      <td>У нас вообще […] засада с героями, способными ...</td>\n      <td>Там в воскресенье все магазины закрыты – вот в...</td>\n      <td>17</td>\n      <td>24</td>\n      <td>50</td>\n      <td>57</td>\n      <td>True</td>\n      <td>2</td>\n      <td>2</td>\n    </tr>\n    <tr>\n      <th>3</th>\n      <td>3</td>\n      <td>доля</td>\n      <td>Он не успел сказать и десятой доли того, что с...</td>\n      <td>Болезнь ее была странного свойства – […] что-т...</td>\n      <td>30</td>\n      <td>35</td>\n      <td>70</td>\n      <td>77</td>\n      <td>False</td>\n      <td>2</td>\n      <td>3</td>\n    </tr>\n    <tr>\n      <th>4</th>\n      <td>4</td>\n      <td>закат</td>\n      <td>Теперь, если она не пойдет звонить мужу, успее...</td>\n      <td>Тридцать с лишним лет службы в органах, три ра...</td>\n      <td>51</td>\n      <td>58</td>\n      <td>85</td>\n      <td>92</td>\n      <td>False</td>\n      <td>1</td>\n      <td>2</td>\n    </tr>\n  </tbody>\n</table>\n</div>"
     },
     "metadata": {},
     "output_type": "display_data"
    },
    {
     "name": "stdout",
     "output_type": "stream",
     "text": [
      "(19845, 11)\n"
     ]
    }
   ],
   "source": [
    "train_data = pd.read_json(path_or_buf='../data/RUSSE/orig/train.jsonl', lines=True)#.set_index('idx')\n",
    "val_data = pd.read_json(path_or_buf='../data/RUSSE/orig/val.jsonl', lines=True)#.set_index('idx')\n",
    "test_data = pd.read_json(path_or_buf='../data/RUSSE/orig/test.jsonl', lines=True)#.set_index('idx')\n",
    "\n",
    "display(train_data.head())\n",
    "print(train_data.shape)"
   ],
   "metadata": {
    "collapsed": false,
    "pycharm": {
     "name": "#%%\n"
    }
   }
  },
  {
   "cell_type": "code",
   "execution_count": null,
   "outputs": [],
   "source": [
    "cols = ['sentence1', 'sentence2', 'start1', 'end1', 'start2', 'end2', 'label']\n",
    "\n",
    "train_proc = []\n",
    "for i, row in train_data.iterrows():\n",
    "    train_proc.append({\n",
    "        'idx': row.idx,\n",
    "        \"sentence1\": row.sentence1,\n",
    "                          \"sentence2\": row.sentence2,\n",
    "                          'start1': row.start1,\n",
    "                          'end1': row.start1,\n",
    "                         'start2': row.start2,\n",
    "                         'end2': row.end2,\n",
    "                         'label': row.label,\n",
    "                          })\n",
    "with open('../data/RUSSE/train.jsonl', 'w') as f:\n",
    "    for item in train_proc:\n",
    "        f.write(json.dumps(item) + \"\\n\")\n",
    "\n",
    "val_proc = []\n",
    "for i, row in val_data.iterrows():\n",
    "    val_proc.append({\n",
    "        'idx': row.idx,\n",
    "        \"sentence1\": row.sentence1,\n",
    "                              \"sentence2\": row.sentence2,\n",
    "                              'start1': row.start1,\n",
    "                              'end1': row.start1,\n",
    "                             'start2': row.start2,\n",
    "                             'end2': row.end2,\n",
    "                             'label': row.label,\n",
    "                              })\n",
    "with open('../data/RUSSE/val.jsonl', 'w') as f:\n",
    "    for item in train_proc:\n",
    "        f.write(json.dumps(item) + \"\\n\")\n",
    "\n",
    "\n",
    "test_proc = []\n",
    "for i, row in test_data.iterrows():\n",
    "    test_proc.append({\n",
    "        'idx': row.idx,\n",
    "        \"sentence1\": row.sentence1,\n",
    "                              \"sentence2\": row.sentence2,\n",
    "                              'start1': row.start1,\n",
    "                              'end1': row.start1,\n",
    "                             'start2': row.start2,\n",
    "                             'end2': row.end2,\n",
    "                             # 'label': row.label,\n",
    "                              })\n",
    "with open('../data/RUSSE/test.jsonl', 'w') as f:\n",
    "    for item in train_proc:\n",
    "        f.write(json.dumps(item) + \"\\n\")"
   ],
   "metadata": {
    "collapsed": false,
    "pycharm": {
     "name": "#%%\n"
    }
   }
  },
  {
   "cell_type": "code",
   "execution_count": null,
   "outputs": [],
   "source": [],
   "metadata": {
    "collapsed": false,
    "pycharm": {
     "name": "#%%\n"
    }
   }
  }
 ],
 "metadata": {
  "kernelspec": {
   "display_name": "Python 3",
   "language": "python",
   "name": "python3"
  },
  "language_info": {
   "codemirror_mode": {
    "name": "ipython",
    "version": 2
   },
   "file_extension": ".py",
   "mimetype": "text/x-python",
   "name": "python",
   "nbconvert_exporter": "python",
   "pygments_lexer": "ipython2",
   "version": "2.7.6"
  }
 },
 "nbformat": 4,
 "nbformat_minor": 0
}