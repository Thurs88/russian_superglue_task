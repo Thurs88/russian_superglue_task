{
 "cells": [
  {
   "cell_type": "code",
   "execution_count": null,
   "outputs": [],
   "source": [
    "import json\n",
    "import pandas as pd\n",
    "from IPython.core.display import display\n",
    "%load_ext autoreload\n",
    "%autoreload 2"
   ],
   "metadata": {
    "collapsed": false,
    "pycharm": {
     "name": "#%%\n"
    }
   }
  },
  {
   "cell_type": "code",
   "execution_count": null,
   "outputs": [],
   "source": [
    "train_data = pd.read_json(path_or_buf='../data/RUSSE/orig/train.jsonl', lines=True)#.set_index('idx')\n",
    "val_data = pd.read_json(path_or_buf='../data/RUSSE/orig/val.jsonl', lines=True)#.set_index('idx')\n",
    "test_data = pd.read_json(path_or_buf='../data/RUSSE/orig/test.jsonl', lines=True)#.set_index('idx')\n",
    "\n",
    "display(train_data.head())\n",
    "print(train_data.shape)"
   ],
   "metadata": {
    "collapsed": false,
    "pycharm": {
     "name": "#%%\n"
    }
   }
  },
  {
   "cell_type": "code",
   "execution_count": null,
   "outputs": [],
   "source": [
    "cols = ['sentence1', 'sentence2', 'start1', 'end1', 'start2', 'end2', 'label']\n",
    "\n",
    "train_proc = []\n",
    "for i, row in train_data.iterrows():\n",
    "    train_proc.append({\n",
    "        'idx': row.idx,\n",
    "        \"sentence1\": row.sentence1,\n",
    "                          \"sentence2\": row.sentence2,\n",
    "                          'start1': row.start1,\n",
    "                          'end1': row.start1,\n",
    "                         'start2': row.start2,\n",
    "                         'end2': row.end2,\n",
    "                         'label': row.label,\n",
    "                          })\n",
    "with open('../data/RUSSE/train.jsonl', 'w') as f:\n",
    "    for item in train_proc:\n",
    "        f.write(json.dumps(item) + \"\\n\")\n",
    "\n",
    "val_proc = []\n",
    "for i, row in val_data.iterrows():\n",
    "    val_proc.append({\n",
    "        'idx': row.idx,\n",
    "        \"sentence1\": row.sentence1,\n",
    "                              \"sentence2\": row.sentence2,\n",
    "                              'start1': row.start1,\n",
    "                              'end1': row.start1,\n",
    "                             'start2': row.start2,\n",
    "                             'end2': row.end2,\n",
    "                             'label': row.label,\n",
    "                              })\n",
    "with open('../data/RUSSE/val.jsonl', 'w') as f:\n",
    "    for item in train_proc:\n",
    "        f.write(json.dumps(item) + \"\\n\")\n",
    "\n",
    "\n",
    "test_proc = []\n",
    "for i, row in test_data.iterrows():\n",
    "    test_proc.append({\n",
    "        'idx': row.idx,\n",
    "        \"sentence1\": row.sentence1,\n",
    "                              \"sentence2\": row.sentence2,\n",
    "                              'start1': row.start1,\n",
    "                              'end1': row.start1,\n",
    "                             'start2': row.start2,\n",
    "                             'end2': row.end2,\n",
    "                             # 'label': row.label,\n",
    "                              })\n",
    "with open('../data/RUSSE/test.jsonl', 'w') as f:\n",
    "    for item in train_proc:\n",
    "        f.write(json.dumps(item) + \"\\n\")"
   ],
   "metadata": {
    "collapsed": false,
    "pycharm": {
     "name": "#%%\n"
    }
   }
  },
  {
   "cell_type": "code",
   "execution_count": null,
   "outputs": [],
   "source": [],
   "metadata": {
    "collapsed": false,
    "pycharm": {
     "name": "#%%\n"
    }
   }
  }
 ],
 "metadata": {
  "kernelspec": {
   "display_name": "Python 3",
   "language": "python",
   "name": "python3"
  },
  "language_info": {
   "codemirror_mode": {
    "name": "ipython",
    "version": 2
   },
   "file_extension": ".py",
   "mimetype": "text/x-python",
   "name": "python",
   "nbconvert_exporter": "python",
   "pygments_lexer": "ipython2",
   "version": "2.7.6"
  }
 },
 "nbformat": 4,
 "nbformat_minor": 0
}